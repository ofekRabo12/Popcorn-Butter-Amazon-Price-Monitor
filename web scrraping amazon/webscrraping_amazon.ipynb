{
 "cells": [
  {
   "cell_type": "code",
   "execution_count": 26,
   "metadata": {},
   "outputs": [],
   "source": [
    "#Import lib\n",
    "import requests\n",
    "import smtplib\n",
    "import time\n",
    "import datetime\n",
    "from bs4 import BeautifulSoup\n",
    "import pandas as pd"
   ]
  },
  {
   "cell_type": "code",
   "execution_count": 21,
   "metadata": {},
   "outputs": [
    {
     "name": "stdout",
     "output_type": "stream",
     "text": [
      "The product: Gold Medal Prod. 2045 Flavacol Seasoning Popcorn Salt 35oz. (Pack of 2) is ‏16.43 ‏ on 2023-12-07\n"
     ]
    }
   ],
   "source": [
    "#Connect to website\n",
    "\n",
    "url = \"https://www.amazon.com/-/he/2045/dp/B0CB686NKH/ref=sr_1_39?crid=1V7CHRK6EAT4I&keywords=salt+for+popcorn&qid=1701969783&sprefix=SALT+FOR+POP%2Caps%2C243&sr=8-39\"\n",
    "\n",
    "headers = {\"User-Agent\": \"Mozilla/5.0 (Windows NT 10.0; Win64; x64) AppleWebKit/537.36 (KHTML, like Gecko) Chrome/119.0.0.0 Safari/537.36\", \"Accept-Encoding\":\"gzip, deflate\", \"Accept\":\"text/html,application/xhtml+xml,application/xml;q=0.9,*/*;q=0.8\", \"DNT\":\"1\",\"Connection\":\"close\", \"Upgrade-Insecure-Requests\":\"1\"}\n",
    "\n",
    "page = requests.get(url, headers=headers)\n",
    "\n",
    "soup1 = BeautifulSoup(page.content, 'html.parser')\n",
    "\n",
    "soup2 = BeautifulSoup(soup1.prettify(), 'html.parser')\n",
    "\n",
    "product_title = soup2.find(id = 'productTitle').get_text().strip()\n",
    "\n",
    "price = soup2.find(id='price_inside_buybox').get_text().strip()[:-1] #to eliminate the $ sign\n",
    "\n",
    "today = datetime.date.today()\n",
    "\n",
    "print(f'The product: {product_title} is {price} on {today}')\n"
   ]
  },
  {
   "cell_type": "code",
   "execution_count": 29,
   "metadata": {},
   "outputs": [],
   "source": [
    "# Create data set from the web scrraping\n",
    "import csv \n",
    "\n",
    "header = ['Product', 'Price','Date']\n",
    "\n",
    "data = [product_title, price,today]\n",
    "\n",
    "with open('Amazon_web_scrraper_data.csv', 'w', newline= '', encoding='UTF8') as f:\n",
    "    writer = csv.writer(f)\n",
    "    writer.writerow(header)\n",
    "    writer.writerow(data)"
   ]
  },
  {
   "cell_type": "code",
   "execution_count": 30,
   "metadata": {},
   "outputs": [
    {
     "data": {
      "text/html": [
       "<div>\n",
       "<style scoped>\n",
       "    .dataframe tbody tr th:only-of-type {\n",
       "        vertical-align: middle;\n",
       "    }\n",
       "\n",
       "    .dataframe tbody tr th {\n",
       "        vertical-align: top;\n",
       "    }\n",
       "\n",
       "    .dataframe thead th {\n",
       "        text-align: right;\n",
       "    }\n",
       "</style>\n",
       "<table border=\"1\" class=\"dataframe\">\n",
       "  <thead>\n",
       "    <tr style=\"text-align: right;\">\n",
       "      <th></th>\n",
       "      <th>Product</th>\n",
       "      <th>Price</th>\n",
       "      <th>Date</th>\n",
       "    </tr>\n",
       "  </thead>\n",
       "  <tbody>\n",
       "    <tr>\n",
       "      <th>0</th>\n",
       "      <td>Gold Medal Prod. 2045 Flavacol Seasoning Popco...</td>\n",
       "      <td>‏16.43 ‏</td>\n",
       "      <td>2023-12-07</td>\n",
       "    </tr>\n",
       "  </tbody>\n",
       "</table>\n",
       "</div>"
      ],
      "text/plain": [
       "                                             Product     Price        Date\n",
       "0  Gold Medal Prod. 2045 Flavacol Seasoning Popco...  ‏16.43 ‏  2023-12-07"
      ]
     },
     "execution_count": 30,
     "metadata": {},
     "output_type": "execute_result"
    }
   ],
   "source": [
    "df = pd.read_csv('Amazon_web_scrraper_data.csv')\n",
    "df"
   ]
  },
  {
   "cell_type": "code",
   "execution_count": null,
   "metadata": {},
   "outputs": [],
   "source": [
    "#Now we are appending data to the csv\n",
    "with open('Amazon_web_scrraper_data.csv', 'a+', newline= '', encoding='UTF8') as f:\n",
    "    writer = csv.writer(f)\n",
    "    writer.writerow(data)"
   ]
  },
  {
   "cell_type": "code",
   "execution_count": 31,
   "metadata": {},
   "outputs": [],
   "source": [
    "#Put the program into a function\n",
    "def check_price():\n",
    "    url = \"https://www.amazon.com/-/he/2045/dp/B0CB686NKH/ref=sr_1_39?crid=1V7CHRK6EAT4I&keywords=salt+for+popcorn&qid=1701969783&sprefix=SALT+FOR+POP%2Caps%2C243&sr=8-39\"\n",
    "\n",
    "    headers = {\"User-Agent\": \"Mozilla/5.0 (Windows NT 10.0; Win64; x64) AppleWebKit/537.36 (KHTML, like Gecko) Chrome/119.0.0.0 Safari/537.36\", \"Accept-Encoding\":\"gzip, deflate\", \"Accept\":\"text/html,application/xhtml+xml,application/xml;q=0.9,*/*;q=0.8\", \"DNT\":\"1\",\"Connection\":\"close\", \"Upgrade-Insecure-Requests\":\"1\"}\n",
    "\n",
    "    page = requests.get(url, headers=headers)\n",
    "\n",
    "    soup1 = BeautifulSoup(page.content, 'html.parser')\n",
    "\n",
    "    soup2 = BeautifulSoup(soup1.prettify(), 'html.parser')\n",
    "\n",
    "    product_title = soup2.find(id = 'productTitle').get_text().strip()\n",
    "\n",
    "    price = soup2.find(id='price_inside_buybox').get_text().strip()[:-1] #to eliminate the $ sign\n",
    "\n",
    "    today = datetime.date.today()\n",
    "    \n",
    "    header = ['Product', 'Price','Date']\n",
    "\n",
    "    data = [product_title, price,today]\n",
    "\n",
    "    with open('Amazon_web_scrraper_data.csv', 'a+', newline= '', encoding='UTF8') as f:\n",
    "        writer = csv.writer(f)\n",
    "        writer.writerow(data)\n",
    "    \n"
   ]
  },
  {
   "cell_type": "code",
   "execution_count": null,
   "metadata": {},
   "outputs": [],
   "source": [
    "while(True):\n",
    "    check_price()\n",
    "    time.sleep(86400)"
   ]
  },
  {
   "cell_type": "code",
   "execution_count": null,
   "metadata": {},
   "outputs": [],
   "source": []
  }
 ],
 "metadata": {
  "kernelspec": {
   "display_name": "Python 3",
   "language": "python",
   "name": "python3"
  },
  "language_info": {
   "codemirror_mode": {
    "name": "ipython",
    "version": 3
   },
   "file_extension": ".py",
   "mimetype": "text/x-python",
   "name": "python",
   "nbconvert_exporter": "python",
   "pygments_lexer": "ipython3",
   "version": "3.11.5"
  }
 },
 "nbformat": 4,
 "nbformat_minor": 2
}
